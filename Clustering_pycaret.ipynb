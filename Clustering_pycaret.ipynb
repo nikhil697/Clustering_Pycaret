{
  "nbformat": 4,
  "nbformat_minor": 0,
  "metadata": {
    "colab": {
      "provenance": [],
      "authorship_tag": "ABX9TyN/Jr4BbWQNs1aTe9waT1qr",
      "include_colab_link": true
    },
    "kernelspec": {
      "name": "python3",
      "display_name": "Python 3"
    },
    "language_info": {
      "name": "python"
    }
  },
  "cells": [
    {
      "cell_type": "markdown",
      "metadata": {
        "id": "view-in-github",
        "colab_type": "text"
      },
      "source": [
        "<a href=\"https://colab.research.google.com/github/nikhil697/Google_Colaboratory/blob/main/Clustering_pycaret.ipynb\" target=\"_parent\"><img src=\"https://colab.research.google.com/assets/colab-badge.svg\" alt=\"Open In Colab\"/></a>"
      ]
    },
    {
      "cell_type": "code",
      "execution_count": 1,
      "metadata": {
        "colab": {
          "base_uri": "https://localhost:8080/"
        },
        "id": "fhD-BKJfx2M1",
        "outputId": "fec4535f-ed0b-40c1-f8a5-13a8ebd5407f"
      },
      "outputs": [
        {
          "output_type": "stream",
          "name": "stdout",
          "text": [
            "Pycaret installed sucessfully!!\n"
          ]
        }
      ],
      "source": [
        "!pip install pycaret &> /dev/null\n",
        "print (\"Pycaret installed sucessfully!!\")"
      ]
    },
    {
      "cell_type": "code",
      "source": [],
      "metadata": {
        "id": "vnbfy-Cpywq7"
      },
      "execution_count": null,
      "outputs": []
    }
  ]
}